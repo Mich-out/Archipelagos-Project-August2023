{
 "cells": [
  {
   "cell_type": "markdown",
   "id": "0daed537",
   "metadata": {},
   "source": [
    "# NDVI Classification for May"
   ]
  },
  {
   "cell_type": "markdown",
   "id": "14bbf0b1",
   "metadata": {},
   "source": [
    "The purpose of this code is to retrieve Sentinel 2 images for Samos Island, Greece, in order to perform a mapping of Psili Ammos, a wetland located in the Southeast region. The code includes the following steps:\n",
    "\n",
    "- Data Retrieval: Retrieve Sentinel 2 images for the specified area and time range.\n",
    "\n",
    "- Preprocessing: Apply necessary preprocessing steps such as cloud masking, band selection, and image enhancement   techniques.\n",
    "\n",
    "- Feature Extraction: Calculate relevant indices such as Normalized Difference Water Index (NDWI) and Soil Adjusted Vegetation Index (SAVI).\n",
    "\n",
    "- Unsupervised Classification: Perform an unsupervised classification using the extracted features.\n",
    "\n",
    "- Accuracy Assessment: Evaluate the accuracy of the classification by comparing it with a ground truth dataset created on-site.\n",
    "\n",
    "By Michel Tarby"
   ]
  },
  {
   "cell_type": "markdown",
   "id": "0c1a6e2e",
   "metadata": {},
   "source": [
    "# Sentinel-2 Images retrievingn and treatments"
   ]
  },
  {
   "cell_type": "markdown",
   "id": "30c1c400",
   "metadata": {},
   "source": [
    "### Packages importations "
   ]
  },
  {
   "cell_type": "code",
   "execution_count": 2,
   "id": "0a877c8c",
   "metadata": {},
   "outputs": [],
   "source": [
    "import importlib\n",
    "import sys\n",
    "import subprocess\n",
    "import os\n",
    "import earthpy.plot as ep\n",
    "import pandas as pd\n",
    "\n",
    "\n",
    "def install_and_import(package):\n",
    "    try:\n",
    "        importlib.import_module(package)\n",
    "    except ImportError:\n",
    "        subprocess.check_call([sys.executable, \"-m\", \"pip\", \"install\", package])\n",
    "    finally:\n",
    "        globals()[package] = importlib.import_module(package)\n",
    "\n",
    "packages = ['ee', 'geemap', 'rasterio', 'rasterstats', 'geopandas', 'numpy', 'scipy', 'matplotlib']\n",
    "\n",
    "for package in packages:\n",
    "    install_and_import(package)\n",
    "\n",
    "# Additional imports\n",
    "from scipy.optimize import curve_fit\n",
    "from pandas.tseries.offsets import MonthEnd\n",
    "import matplotlib.pyplot as plt\n",
    "import geemap.common as com"
   ]
  },
  {
   "cell_type": "code",
   "execution_count": 3,
   "id": "8f2a3a20",
   "metadata": {},
   "outputs": [
    {
     "data": {
      "text/html": [
       "<p>To authorize access needed by Earth Engine, open the following\n",
       "        URL in a web browser and follow the instructions:</p>\n",
       "        <p><a href=https://code.earthengine.google.com/client-auth?scopes=https%3A//www.googleapis.com/auth/earthengine%20https%3A//www.googleapis.com/auth/devstorage.full_control&request_id=K_Yu_HyQxuecnhoWX0a59Tp4Otsz6CDIwIx8qEl0kYk&tc=YSGmbI58u-EeDW0wRHLD79MjPZdC_WYLBVCTFn4f-F4&cc=T0hQuTzIUQhRDrSMQ_7X1LbHZTjYjZgifMD-9YV9XE8>https://code.earthengine.google.com/client-auth?scopes=https%3A//www.googleapis.com/auth/earthengine%20https%3A//www.googleapis.com/auth/devstorage.full_control&request_id=K_Yu_HyQxuecnhoWX0a59Tp4Otsz6CDIwIx8qEl0kYk&tc=YSGmbI58u-EeDW0wRHLD79MjPZdC_WYLBVCTFn4f-F4&cc=T0hQuTzIUQhRDrSMQ_7X1LbHZTjYjZgifMD-9YV9XE8</a></p>\n",
       "        <p>The authorization workflow will generate a code, which you should paste in the box below.</p>\n",
       "        "
      ],
      "text/plain": [
       "<IPython.core.display.HTML object>"
      ]
     },
     "metadata": {},
     "output_type": "display_data"
    },
    {
     "name": "stdout",
     "output_type": "stream",
     "text": [
      "Enter verification code: 4/1AZEOvhUAVI-Xe3aiX4AaWqaYuZjoCsmJK_sbWlIgnCzwP8thNqhGPZscDoY\n",
      "\n",
      "Successfully saved authorization token.\n"
     ]
    }
   ],
   "source": [
    "try:\n",
    "    ee.Initialize()\n",
    "except Exception as e:\n",
    "    ee.Authenticate()\n",
    "    ee.Initialize()"
   ]
  },
  {
   "cell_type": "markdown",
   "id": "d72dfcad",
   "metadata": {},
   "source": [
    "### Map instance with a zoom on Psili Ammos area"
   ]
  },
  {
   "cell_type": "code",
   "execution_count": 4,
   "id": "39d2ca42",
   "metadata": {
    "scrolled": false
   },
   "outputs": [
    {
     "data": {
      "application/vnd.jupyter.widget-view+json": {
       "model_id": "cdc11d17ffb242a18b5e20a60664cd42",
       "version_major": 2,
       "version_minor": 0
      },
      "text/plain": [
       "Map(center=[37.707147, 27.009654], controls=(WidgetControl(options=['position', 'transparent_bg'], widget=HBox…"
      ]
     },
     "execution_count": 4,
     "metadata": {},
     "output_type": "execute_result"
    }
   ],
   "source": [
    "# Create a geemap Map instance\n",
    "Map = geemap.Map()\n",
    "\n",
    "# Define the coordinates and zoom level for the region of interest (ROI) - (Samos, in this case)\n",
    "roi_longitude = 27.009654\n",
    "roi_latitude = 37.707147\n",
    "zoom_level = 15\n",
    "\n",
    "# Center the map on the ROI \n",
    "Map.setCenter(roi_longitude, roi_latitude, zoom_level)\n",
    "\n",
    "# Display the map\n",
    "Map"
   ]
  },
  {
   "cell_type": "markdown",
   "id": "70824f72",
   "metadata": {},
   "source": [
    "### Retrieve Sentinel 2 Images and put shape of Psili Ammos on top"
   ]
  },
  {
   "cell_type": "code",
   "execution_count": 5,
   "id": "8140ec3d",
   "metadata": {},
   "outputs": [
    {
     "name": "stdout",
     "output_type": "stream",
     "text": [
      "Image collection size: 1\n",
      "Sample image band names: ['B1', 'B2', 'B3', 'B4', 'B5', 'B6', 'B7', 'B8', 'B8A', 'B9', 'B11', 'B12', 'AOT', 'WVP', 'SCL', 'TCI_R', 'TCI_G', 'TCI_B', 'MSK_CLDPRB', 'MSK_SNWPRB', 'QA10', 'QA20', 'QA60']\n"
     ]
    }
   ],
   "source": [
    "# Function to mask clouds in Sentinel-2 images\n",
    "def maskS2clouds(image):\n",
    "    qa = image.select('QA60')\n",
    "\n",
    "    # Bits 10 and 11 are clouds and cirrus, respectively.\n",
    "    cloudBitMask = 1 << 10\n",
    "    cirrusBitMask = 1 << 11\n",
    "\n",
    "    # Both flags should be set to zero, indicating clear conditions.\n",
    "    mask = qa.bitwiseAnd(cloudBitMask).eq(0).And(qa.bitwiseAnd(cirrusBitMask).eq(0))\n",
    "\n",
    "    return image.updateMask(mask).divide(10000)\n",
    "\n",
    "# Define the study area and date range\n",
    "study_area = ee.Geometry.Point(roi_longitude, roi_latitude)\n",
    "start_date = '2023-05-01'\n",
    "end_date = '2023-05-31'\n",
    "\n",
    "# Load Sentinel-2 images and apply cloud masking, further we select only imagery with less than 5% cloud\n",
    "\n",
    "dataset_image = (ee.ImageCollection('COPERNICUS/S2_SR')\n",
    "                 .filterBounds(study_area)\n",
    "                 .filterDate(start_date, end_date)\n",
    "                 .filter(ee.Filter.lt('CLOUDY_PIXEL_PERCENTAGE', 5))\n",
    "                 .map(maskS2clouds))\n",
    "\n",
    "# Define visualization parameters\n",
    "visualization = {\n",
    "    'max': 0.3,\n",
    "    'bands': ['B4', 'B3', 'B2'],\n",
    "}\n",
    "\n",
    "# Add the Sentinel-2 image layer to the map\n",
    "Map.addLayer(dataset_image, visualization, 'S2')\n",
    "\n",
    "# Import delimitations of the wetland\n",
    "samos_area = ee.FeatureCollection('projects/archipelagos-michel-project/assets/samos_area')\n",
    "Map.addLayer(samos_area, {'color': 'purple'}, 'Area samos')\n",
    "feature_geometry = samos_area.geometry() #delimitations to clip NDVI and NDWI\n",
    "\n",
    "print('Image collection size:', dataset_image.size().getInfo())\n",
    "sample_image = dataset_image.first()  # Get the first image from the collection\n",
    "band_names = sample_image.bandNames().getInfo()\n",
    "print('Sample image band names:', band_names)"
   ]
  },
  {
   "cell_type": "markdown",
   "id": "f2b74cd2",
   "metadata": {},
   "source": [
    "### Creation of beginning date and ending date for each month for the considerate period"
   ]
  },
  {
   "cell_type": "code",
   "execution_count": 6,
   "id": "37c9691a",
   "metadata": {},
   "outputs": [
    {
     "name": "stdout",
     "output_type": "stream",
     "text": [
      "Index(['2022-01-31', '2022-02-28', '2022-03-31', '2022-04-30', '2022-05-31',\n",
      "       '2022-06-30', '2022-07-31', '2022-08-31', '2022-09-30', '2022-10-31',\n",
      "       '2022-11-30', '2022-12-31'],\n",
      "      dtype='object')\n"
     ]
    }
   ],
   "source": [
    "# End and begin dates for median creation\n",
    "date_range = pd.date_range('2022-01-01', '2022-12-31', freq='MS')\n",
    "\n",
    "begin_date = date_range.strftime(\"%Y-%m-%d\")\n",
    "end_date = (date_range + MonthEnd(1)).strftime(\"%Y-%m-%d\")\n",
    "print(end_date)"
   ]
  },
  {
   "cell_type": "code",
   "execution_count": 7,
   "id": "ff9ac04e",
   "metadata": {},
   "outputs": [],
   "source": [
    "# Iterate over each month\n",
    "median_images = []\n",
    "NDVI_month = []\n",
    "NDWI_month = []\n",
    "SWI_month = []\n",
    "SAVI_month = []\n",
    "\n",
    "for i in range(0,12):\n",
    "    month_start = begin_date[i]\n",
    "    month_end = end_date[i]\n",
    "    month_images = (ee.ImageCollection('COPERNICUS/S2_SR')\n",
    "                 .filterBounds(study_area)\n",
    "                 .filterDate(month_start, month_end)\n",
    "                 .filter(ee.Filter.lt('CLOUDY_PIXEL_PERCENTAGE', 5))\n",
    "                 .map(maskS2clouds))\n",
    "    month_median = month_images.median()\n",
    "    \n",
    "    # If there is no images with less than 5% cloud, then we try to have other with at max 20%\n",
    "    if month_median.bandNames().size().eq(0):\n",
    "        month_images = (ee.ImageCollection('COPERNICUS/S2_SR')\n",
    "                 .filterBounds(study_area)\n",
    "                 .filterDate(month_start, month_end)\n",
    "                 .filter(ee.Filter.lt('CLOUDY_PIXEL_PERCENTAGE', 60))\n",
    "                 .map(maskS2clouds))\n",
    "        month_median = month_images.median()\n",
    "\n",
    "    # Normalized difference is computed only once\n",
    "    ndvi = month_median.normalizedDifference(['B8', 'B4'])\n",
    "    ndwi = month_median.normalizedDifference(['B3', 'B8'])\n",
    "    swi = month_median.normalizedDifference(['B5', 'B11'])\n",
    "    savi = month_median.expression(\n",
    "      '((B8 - B4) / (B8 + B4 + 0.428)) * 1.428',\n",
    "      {\n",
    "        'B8': month_median.select('B8'),\n",
    "        'B4': month_median.select('B4')\n",
    "      }\n",
    "    )   \n",
    "\n",
    "    masked_ndvi = ndvi.clip(feature_geometry)\n",
    "    masked_ndwi = ndwi.clip(feature_geometry)\n",
    "    masked_savi = savi.clip(feature_geometry)\n",
    "    masked_swi = swi.clip(feature_geometry)\n",
    "    \n",
    "    median_images.append(month_median)\n",
    "    NDVI_month.append(masked_ndvi)\n",
    "    NDWI_month.append(masked_ndwi)\n",
    "    SAVI_month.append(masked_savi)\n",
    "    SWI_month.append(masked_swi)\n"
   ]
  },
  {
   "cell_type": "code",
   "execution_count": 12,
   "id": "9477ac3e",
   "metadata": {},
   "outputs": [
    {
     "data": {
      "application/vnd.jupyter.widget-view+json": {
       "model_id": "cdc11d17ffb242a18b5e20a60664cd42",
       "version_major": 2,
       "version_minor": 0
      },
      "text/plain": [
       "Map(bottom=3244692.0, center=[37.706368356809776, 27.009800152221047], controls=(WidgetControl(options=['posit…"
      ]
     },
     "execution_count": 12,
     "metadata": {},
     "output_type": "execute_result"
    }
   ],
   "source": [
    "# Select the NDVI image for a specific month (e.g., month 4)\n",
    "ndvi_image = NDVI_month[0]\n",
    "\n",
    "# Define visualization parameters for the NDVI\n",
    "ndvi_vis_params = {\n",
    "    'min': -1,\n",
    "    'max': 1,\n",
    "    'palette': ['red', 'yellow', 'green']\n",
    "}\n",
    "\n",
    "# Add the NDVI image to the GEE map\n",
    "Map.addLayer(ndvi_image, ndvi_vis_params, 'NDVI Image')\n",
    "Map"
   ]
  },
  {
   "cell_type": "code",
   "execution_count": 13,
   "id": "9aa7f6c7",
   "metadata": {},
   "outputs": [],
   "source": [
    "# Import ground truth points on the map\n",
    "sampling_points = ee.FeatureCollection('projects/archipelagos-michel-project/assets/Data_wetland_1106')\n",
    "Map.addLayer(sampling_points, {'color': 'red'}, 'Ground truth points')\n"
   ]
  },
  {
   "cell_type": "markdown",
   "id": "66cd99d3",
   "metadata": {},
   "source": [
    "# Unsupervised classification NDWI and then SAVI"
   ]
  },
  {
   "cell_type": "markdown",
   "id": "6edf4ab6",
   "metadata": {},
   "source": [
    "## NDWI supervised classification"
   ]
  },
  {
   "cell_type": "code",
   "execution_count": 15,
   "id": "8d0b0a88",
   "metadata": {},
   "outputs": [],
   "source": [
    "# Import ground truth points\n",
    "sampling_points = ee.FeatureCollection('projects/archipelagos-michel-project/assets/Data_wetland_1106')\n",
    "\n",
    "# Replace other than Water (ClassId = 0) by Other (ClassId = 1)\n",
    "def replaceNonZero(feature):\n",
    "    classId = feature.getNumber('ClassId')\n",
    "    newClassId = ee.Algorithms.If(classId.neq(0), 1, classId)\n",
    "    return feature.set('ClassId', newClassId)\n",
    "\n",
    "# Apply the function to the feature\n",
    "NDWI_gt = sampling_points.map(replaceNonZero)"
   ]
  },
  {
   "cell_type": "code",
   "execution_count": 16,
   "id": "536626e3",
   "metadata": {},
   "outputs": [
    {
     "name": "stdout",
     "output_type": "stream",
     "text": [
      "Number of training features: 69\n",
      "Number of validation features: 24\n",
      "Percentage of training features: 74.19354838709677 %\n",
      "Seed number: 2\n"
     ]
    }
   ],
   "source": [
    "# Import Ground truth data\n",
    "features = NDWI_gt\n",
    "# Define the desired percentage range for training data\n",
    "target_percentage_min = 0.65\n",
    "target_percentage_max = 0.75\n",
    "\n",
    "# Initialize variables\n",
    "seed = 0\n",
    "training_percentage = 0\n",
    "validation_percentage = 1\n",
    "\n",
    "# Define the percentage value for splitting\n",
    "percentage = 0.7  \n",
    "    \n",
    "# Iterate until the desired percentage range is achieved\n",
    "while (\n",
    "    training_percentage < target_percentage_min or\n",
    "    training_percentage > target_percentage_max\n",
    "):\n",
    "    # Update the seed value\n",
    "    seed += 1\n",
    "    feature_random = features.randomColumn('random', seed)\n",
    "\n",
    "    \n",
    "    # Split the feature collection into training and validation datasets\n",
    "    training = feature_random.filter(ee.Filter.lte('random', percentage))\n",
    "    validation = feature_random.filter(ee.Filter.gt('random', percentage))\n",
    "\n",
    "    # Calculate the current training and validation percentages\n",
    "    total_count = training.size().add(validation.size())\n",
    "    training_percentage = training.size().divide(total_count).getInfo()\n",
    "\n",
    "validation_percentage = validation.size().divide(total_count).getInfo()\n",
    "\n",
    "# Print the number of features in each dataset\n",
    "print('Number of training features:', training.size().getInfo())\n",
    "print('Number of validation features:', validation.size().getInfo())\n",
    "print('Percentage of training features:', training_percentage * 100, '%')\n",
    "print('Seed number:', seed)\n"
   ]
  },
  {
   "cell_type": "code",
   "execution_count": 17,
   "id": "ac94fa1e",
   "metadata": {},
   "outputs": [
    {
     "data": {
      "application/vnd.jupyter.widget-view+json": {
       "model_id": "cdc11d17ffb242a18b5e20a60664cd42",
       "version_major": 2,
       "version_minor": 0
      },
      "text/plain": [
       "Map(bottom=3244692.0, center=[37.706368356809776, 27.009800152221047], controls=(WidgetControl(options=['posit…"
      ]
     },
     "execution_count": 17,
     "metadata": {},
     "output_type": "execute_result"
    }
   ],
   "source": [
    "#Load May 2023 Image\n",
    "may2023 = (ee.ImageCollection('COPERNICUS/S2_SR')\n",
    "                 .filterBounds(study_area)\n",
    "                 .filterDate('2023-05-01', '2023-05-31')\n",
    "                 .filter(ee.Filter.lt('CLOUDY_PIXEL_PERCENTAGE', 5))\n",
    "                 .map(maskS2clouds))\n",
    "may2023_median = may2023.median()\n",
    "\n",
    "# Training with May 2023 data\n",
    "image_2023 = may2023_median.normalizedDifference(['B3', 'B8'])\n",
    "\n",
    "#Load NDWI values for each point\n",
    "trainingData_2023 = image_2023.sampleRegions(collection= training, properties= ['ClassId'],scale= 10)\n",
    "validationData_2023 = image_2023.sampleRegions(collection= validation, properties= ['ClassId'],scale= 10)\n",
    "\n",
    "#Train a Random Forest classifier\n",
    "classifier_2023 = ee.Classifier.smileRandomForest(10).train(trainingData_2023, 'ClassId', ['nd'])\n",
    "classified_2023 = image_2023.classify(classifier_2023)\n",
    "\n",
    "#Classify validation dataset\n",
    "validationClassification_2023 = validationData_2023.classify(classifier_2023)\n",
    "\n",
    "# Set the visualization parameters\n",
    "vis_params = {\n",
    "    'min': -1,\n",
    "    'max': 1,\n",
    "    'palette': ['blue','grey']\n",
    "}\n",
    "\n",
    "# Add classified 2023 image layer\n",
    "Map.addLayer(classified_2023, vis_params, 'Classif May 2023')\n",
    "Map"
   ]
  },
  {
   "cell_type": "code",
   "execution_count": 18,
   "id": "aa3cc176",
   "metadata": {},
   "outputs": [
    {
     "name": "stdout",
     "output_type": "stream",
     "text": [
      "Resubstitution error matrix:  [[7, 0], [1, 16]]\n",
      "Training overall accuracy:  0.9583333333333334\n"
     ]
    }
   ],
   "source": [
    "# Compute Error matrix on validation dataset\n",
    "def createMatrix_supervised(data):\n",
    "    trainAccuracy = data.errorMatrix(\"ClassId\", \"classification\")\n",
    "    print('Resubstitution error matrix: ', trainAccuracy.getInfo())\n",
    "    print('Training overall accuracy: ', trainAccuracy.accuracy().getInfo())\n",
    "    \n",
    "# Error matrix construction\n",
    "createMatrix_supervised(validationClassification_2023)"
   ]
  },
  {
   "cell_type": "markdown",
   "id": "cda8378b",
   "metadata": {},
   "source": [
    "### Apply the classifier for all months of the considered year"
   ]
  },
  {
   "cell_type": "code",
   "execution_count": 20,
   "id": "2c3e0196",
   "metadata": {},
   "outputs": [],
   "source": [
    "# Import Psili Ammos geometry\n",
    "ps_am = ee.FeatureCollection('projects/archipelagos-michel-project/assets/ps_am')\n",
    "# Initialize variable and lists\n",
    "classified_images=[]\n",
    "land_mask=[]\n",
    "\n",
    "# Loop for each NDWI image\n",
    "for month in NDWI_month:\n",
    "    # Apply classifier for each image\n",
    "    input = month\n",
    "    classified = input.classify(classifier_2023)\n",
    "    classified_images.append(classified)\n",
    "    land_mask.append(classified.gt(0))\n"
   ]
  },
  {
   "cell_type": "code",
   "execution_count": 15,
   "id": "a74d60fc",
   "metadata": {},
   "outputs": [],
   "source": [
    "# Display classification for september (water extent ~ 0)\n",
    "Map.addLayer(classified_images[8], vis_params, 'September 2022 - NDWI')"
   ]
  },
  {
   "cell_type": "code",
   "execution_count": null,
   "id": "112cf0d4",
   "metadata": {},
   "outputs": [],
   "source": [
    "# Cross validation for supervised classification (NDWI)\n",
    "from sklearn.model_selection import cross_val_score\n"
   ]
  },
  {
   "cell_type": "markdown",
   "id": "7ec44708",
   "metadata": {},
   "source": [
    "## SAVI unsupervised classification"
   ]
  },
  {
   "cell_type": "code",
   "execution_count": 23,
   "id": "6929d2ee",
   "metadata": {},
   "outputs": [],
   "source": [
    "# Apply mask for considerate month, here May\n",
    "SAVI_wo_water=[]\n",
    "for i in range(12):\n",
    "    SAVI_wo_water.append(SAVI_month[i].updateMask(land_mask[i]))\n",
    "\n",
    "#SAVI_May_wo_water = SAVI_month[4].updateMask(land_mask)\n",
    "Map.addLayer(SAVI_wo_water[8],ndvi_vis_params,'SAVI w/o water - September')\n",
    "\n",
    "# SAVI in 2023 image\n",
    "image_2023_SAVI = may2023_median.expression(\n",
    "      '((B8 - B4) / (B8 + B4 + 0.428)) * 1.428',\n",
    "      {\n",
    "        'B8': month_median.select('B8'),\n",
    "        'B4': month_median.select('B4')\n",
    "      }\n",
    "    ).updateMask(classified_2023.gt(0))"
   ]
  },
  {
   "cell_type": "code",
   "execution_count": 24,
   "id": "9f8d62c1",
   "metadata": {},
   "outputs": [],
   "source": [
    "SAVI_cluster=[]\n",
    "for month in SAVI_wo_water:\n",
    "    # Iterate in images \n",
    "    input = month\n",
    "\n",
    "    #training region is the full image\n",
    "    training = input.sample(region = samos_area, scale = 10)\n",
    "\n",
    "    #train cluster on image\n",
    "    clusterer = ee.Clusterer.wekaKMeans(3).train(training)\n",
    "\n",
    "    #cluster the complete image\n",
    "    SAVI_cluster.append(input.cluster(clusterer))"
   ]
  },
  {
   "cell_type": "code",
   "execution_count": 25,
   "id": "3ccd7276",
   "metadata": {},
   "outputs": [],
   "source": [
    "#Display the clusters with labels\n",
    "legend_keys = ['Cluster One', 'Cluster Two', 'Cluster Three', 'Cluster Four']\n",
    "legend_colors = ['#8DD3C7', '#FFFFB3' ,'#BEBADA']\n",
    "\n",
    "Map.addLayer(SAVI_cluster[0], {'min': 0, 'max': 2, 'palette': legend_colors}, 'clusters')"
   ]
  },
  {
   "cell_type": "code",
   "execution_count": 53,
   "id": "c932bc29",
   "metadata": {},
   "outputs": [],
   "source": [
    "# Apply unsupervised classification to may 2023\n",
    "\n",
    "training2023 = image_2023_SAVI.sample(region = samos_area, scale = 10)\n",
    "\n",
    "clusterer = ee.Clusterer.wekaKMeans(3).train(training2023)\n",
    "\n",
    "classif2023 = image_2023_SAVI.cluster(clusterer)\n",
    "\n",
    "# Remap to have right value for each class\n",
    "result_remap_SAVI2023 = classif2023.remap([0, 1,2], [2,0, 1])\n",
    "\n",
    "legend_colors = ['grey', 'yellow', 'green']\n",
    "\n",
    "Map.addLayer(result_remap_SAVI2023, {'min': 0, 'max': 2, 'palette': legend_colors}, 'Labelled clusters remap 2023')"
   ]
  },
  {
   "cell_type": "markdown",
   "id": "6c37a3a1",
   "metadata": {},
   "source": [
    "### Accuracy assessment for unsupervised classification SAVI"
   ]
  },
  {
   "cell_type": "code",
   "execution_count": 44,
   "id": "6e7e44fb",
   "metadata": {},
   "outputs": [],
   "source": [
    "# Remap to have right value for each class\n",
    "result_remap_SAVI = SAVI_cluster[4].remap([0, 1,2], [1, 2,0])\n",
    "\n",
    "legend_colors = ['grey', 'yellow', 'green']\n",
    "\n",
    "Map.addLayer(result_remap_SAVI, {'min': 0, 'max': 2, 'palette': legend_colors}, 'Labelled clusters remap')\n",
    "#Map.add_legend(legend_keys=legend_keys, legend_colors=legend_colors, position='bottomright')"
   ]
  },
  {
   "cell_type": "code",
   "execution_count": 64,
   "id": "7e29afa1",
   "metadata": {
    "scrolled": true
   },
   "outputs": [
    {
     "name": "stdout",
     "output_type": "stream",
     "text": [
      "Generating URL ...\n",
      "Downloading data from https://earthengine.googleapis.com/v1alpha/projects/earthengine-legacy/thumbnails/80ad6a5d373e0889e6cfe2d6f6f02f56-0104e47644f8618c473dbed036ded7a0:getPixels\n",
      "Please wait ...\n",
      "Data downloaded to C:\\Users\\HP OMEN\\Downloads\\SAVI_classif_September2022test.tif\n"
     ]
    }
   ],
   "source": [
    "#Export the result\n",
    "out_dir = os.path.join(os.path.expanduser('~'), 'Downloads')\n",
    "out_file = os.path.join(out_dir, 'SAVI_classif_September2022test.tif')\n",
    "\n",
    "# Set the value for out of the classification (Water)\n",
    "SAVI_classif = (result_remap_SAVI.unmask(3))\n",
    "\n",
    "fixed_image = SAVI_classif.set(\"nodata_value\", -99)\n",
    "\n",
    "# Export the image to GeoTIFF \n",
    "geemap.ee_export_image(\n",
    "    fixed_image,\n",
    "    filename=out_file,\n",
    "    scale=10)"
   ]
  },
  {
   "cell_type": "code",
   "execution_count": 27,
   "id": "f855539c",
   "metadata": {},
   "outputs": [],
   "source": [
    "# Compute Error matrix \n",
    "def createMatrix_unsupervised(data):\n",
    "    trainAccuracy = data.errorMatrix(\"ClassId\", \"remapped\")\n",
    "    print('Resubstitution error matrix: ', trainAccuracy.getInfo())\n",
    "    print('Training overall accuracy: ', trainAccuracy.accuracy().getInfo())\n"
   ]
  },
  {
   "cell_type": "code",
   "execution_count": 55,
   "id": "5cb25ec4",
   "metadata": {},
   "outputs": [
    {
     "name": "stdout",
     "output_type": "stream",
     "text": [
      "Resubstitution error matrix:  [[7, 3, 1], [3, 8, 3], [2, 9, 34]]\n",
      "Training overall accuracy:  0.7\n"
     ]
    }
   ],
   "source": [
    "# Refactorize points for matching values of the map\n",
    "def refactorize_gt(feature):\n",
    "    classId = feature.getNumber('ClassId')\n",
    "    newClassId = ee.Algorithms.If(classId.eq(4), 0,ee.Algorithms.If(classId.eq(3),2,classId)) \n",
    "    return feature.set('ClassId', newClassId)\n",
    "\n",
    "# Refactorize ground-truth points \n",
    "SAVI_gt = sampling_points.map(refactorize_gt)\n",
    "\n",
    "# Getting pixel values\n",
    "g_truth_SAVI = result_remap_SAVI2023.sampleRegions(collection= SAVI_gt\n",
    "                                               , properties= ['ClassId'],scale= 10)\n",
    "\n",
    "# Generating error Matrix\n",
    "createMatrix_unsupervised(g_truth_SAVI)"
   ]
  },
  {
   "cell_type": "markdown",
   "id": "4353cf40",
   "metadata": {},
   "source": [
    "# DRAFT - BEGIN"
   ]
  },
  {
   "cell_type": "code",
   "execution_count": 81,
   "id": "884bff19",
   "metadata": {
    "scrolled": false
   },
   "outputs": [
    {
     "name": "stdout",
     "output_type": "stream",
     "text": [
      "['nd']\n"
     ]
    },
    {
     "data": {
      "application/vnd.jupyter.widget-view+json": {
       "model_id": "e80c9a96beb542fc9f2fac1c7bb7b124",
       "version_major": 2,
       "version_minor": 0
      },
      "text/plain": [
       "Map(bottom=3244669.025331096, center=[37.70714840504666, 27.011651965066072], controls=(WidgetControl(options=…"
      ]
     },
     "execution_count": 81,
     "metadata": {},
     "output_type": "execute_result"
    }
   ],
   "source": [
    "#test\n",
    "swi_test = dataset_image.median()\n",
    "swi_test = swi_test.normalizedDifference(['B3', 'B8'])\n",
    "\n",
    "# Create a dictionary to map the old band names to the new ones\n",
    "band_name_mapping = {\n",
    "    'nd': 'B8'\n",
    "}\n",
    "\n",
    "# Update the band names using the select function and the mapping dictionary\n",
    "#swi_test = swi_test.select(list(band_name_mapping.keys()), list(band_name_mapping.values()))\n",
    "\n",
    "#Load NDVI values for each point\n",
    "trainingData_swi = swi_test.sampleRegions(collection= NDWI_gt, properties= ['ClassId'],scale= 10)\n",
    "validationData_swi = swi_test.sampleRegions(collection= NDWI_gt, properties= ['ClassId'],scale= 10)\n",
    "\n",
    "#Train a Random Forest classifier\n",
    "classifier_swi = ee.Classifier.smileRandomForest(10).train(trainingData_swi, 'ClassId', ['nd'])\n",
    "classified_swi = swi_test.classify(classifier_swi)\n",
    "\n",
    "#Classify validation dataset\n",
    "validationClassification_swi = validationData_swi.classify(classifier_swi)\n",
    "print(swi_test.bandNames().getInfo())\n",
    "\n",
    "Map.addLayer(classified_swi, vis_params, 'testclassif swi')\n",
    "Map"
   ]
  },
  {
   "cell_type": "code",
   "execution_count": 272,
   "id": "96fabbbe",
   "metadata": {},
   "outputs": [],
   "source": [
    "ah = NDWI_month[0].classify(classifier_swi)\n",
    "Map.addLayer(ah, vis_params, 'ah')"
   ]
  },
  {
   "cell_type": "code",
   "execution_count": 194,
   "id": "b4170f1f",
   "metadata": {},
   "outputs": [
    {
     "data": {
      "application/vnd.jupyter.widget-view+json": {
       "model_id": "37560932c34a458a85d023fae7e5bbb9",
       "version_major": 2,
       "version_minor": 0
      },
      "text/plain": [
       "Map(bottom=3244695.0, center=[37.706266498600485, 27.009588747467784], controls=(WidgetControl(options=['posit…"
      ]
     },
     "execution_count": 194,
     "metadata": {},
     "output_type": "execute_result"
    }
   ],
   "source": [
    "# Define the palette colors\n",
    "palette = ['blue','grey']  # Blue, Yellow, Light Green, Green\n",
    "\n",
    "# Set the visualization parameters\n",
    "vis_params = {\n",
    "    'min': -1,\n",
    "    'max': 1,\n",
    "    'palette': palette\n",
    "}\n",
    "Map.addLayer(classified, vis_params, 'testclassif')\n",
    "Map"
   ]
  },
  {
   "cell_type": "code",
   "execution_count": 26,
   "id": "497bec7f",
   "metadata": {},
   "outputs": [
    {
     "ename": "NameError",
     "evalue": "name 'validationClassification' is not defined",
     "output_type": "error",
     "traceback": [
      "\u001b[1;31m---------------------------------------------------------------------------\u001b[0m",
      "\u001b[1;31mNameError\u001b[0m                                 Traceback (most recent call last)",
      "Cell \u001b[1;32mIn[26], line 7\u001b[0m\n\u001b[0;32m      4\u001b[0m     \u001b[38;5;28mprint\u001b[39m(\u001b[38;5;124m'\u001b[39m\u001b[38;5;124mResubstitution error matrix: \u001b[39m\u001b[38;5;124m'\u001b[39m, trainAccuracy\u001b[38;5;241m.\u001b[39mgetInfo())\n\u001b[0;32m      5\u001b[0m     \u001b[38;5;28mprint\u001b[39m(\u001b[38;5;124m'\u001b[39m\u001b[38;5;124mTraining overall accuracy: \u001b[39m\u001b[38;5;124m'\u001b[39m, trainAccuracy\u001b[38;5;241m.\u001b[39maccuracy()\u001b[38;5;241m.\u001b[39mgetInfo())\n\u001b[1;32m----> 7\u001b[0m createMatrix(\u001b[43mvalidationClassification\u001b[49m)\n",
      "\u001b[1;31mNameError\u001b[0m: name 'validationClassification' is not defined"
     ]
    }
   ],
   "source": [
    "#Error matrix and overall accuracy\n",
    "def createMatrix(data):\n",
    "    trainAccuracy = data.errorMatrix(\"ClassId\", \"classification\")\n",
    "    print('Resubstitution error matrix: ', trainAccuracy.getInfo())\n",
    "    print('Training overall accuracy: ', trainAccuracy.accuracy().getInfo())\n",
    "\n",
    "createMatrix(validationClassification)\n"
   ]
  },
  {
   "cell_type": "markdown",
   "id": "d747be50",
   "metadata": {},
   "source": [
    "# DRAFT - END"
   ]
  },
  {
   "cell_type": "code",
   "execution_count": null,
   "id": "f14be610",
   "metadata": {},
   "outputs": [],
   "source": []
  }
 ],
 "metadata": {
  "kernelspec": {
   "display_name": "Python 3 (ipykernel)",
   "language": "python",
   "name": "python3"
  },
  "language_info": {
   "codemirror_mode": {
    "name": "ipython",
    "version": 3
   },
   "file_extension": ".py",
   "mimetype": "text/x-python",
   "name": "python",
   "nbconvert_exporter": "python",
   "pygments_lexer": "ipython3",
   "version": "3.11.3"
  }
 },
 "nbformat": 4,
 "nbformat_minor": 5
}
